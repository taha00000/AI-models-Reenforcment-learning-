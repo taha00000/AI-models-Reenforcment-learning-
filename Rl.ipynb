{
  "nbformat": 4,
  "nbformat_minor": 0,
  "metadata": {
    "colab": {
      "provenance": []
    },
    "kernelspec": {
      "name": "python3",
      "display_name": "Python 3"
    },
    "language_info": {
      "name": "python"
    }
  },
  "cells": [
    {
      "cell_type": "code",
      "execution_count": null,
      "metadata": {
        "colab": {
          "base_uri": "https://localhost:8080/"
        },
        "id": "IEAbjm978oyU",
        "outputId": "5797090f-c98f-42c0-fa2a-c25d68d1d279"
      },
      "outputs": [
        {
          "output_type": "stream",
          "name": "stdout",
          "text": [
            "Requirement already satisfied: moviepy in /usr/local/lib/python3.11/dist-packages (1.0.3)\n",
            "Requirement already satisfied: matplotlib in /usr/local/lib/python3.11/dist-packages (3.10.0)\n",
            "Requirement already satisfied: gymnasium[box2d] in /usr/local/lib/python3.11/dist-packages (1.1.1)\n",
            "Requirement already satisfied: numpy>=1.21.0 in /usr/local/lib/python3.11/dist-packages (from gymnasium[box2d]) (2.0.2)\n",
            "Requirement already satisfied: cloudpickle>=1.2.0 in /usr/local/lib/python3.11/dist-packages (from gymnasium[box2d]) (3.1.1)\n",
            "Requirement already satisfied: typing-extensions>=4.3.0 in /usr/local/lib/python3.11/dist-packages (from gymnasium[box2d]) (4.13.2)\n",
            "Requirement already satisfied: farama-notifications>=0.0.1 in /usr/local/lib/python3.11/dist-packages (from gymnasium[box2d]) (0.0.4)\n",
            "Collecting box2d-py==2.3.5 (from gymnasium[box2d])\n",
            "  Downloading box2d-py-2.3.5.tar.gz (374 kB)\n",
            "\u001b[2K     \u001b[90m━━━━━━━━━━━━━━━━━━━━━━━━━━━━━━━━━━━━━━\u001b[0m \u001b[32m374.4/374.4 kB\u001b[0m \u001b[31m13.7 MB/s\u001b[0m eta \u001b[36m0:00:00\u001b[0m\n",
            "\u001b[?25h  Preparing metadata (setup.py) ... \u001b[?25l\u001b[?25hdone\n",
            "Requirement already satisfied: pygame>=2.1.3 in /usr/local/lib/python3.11/dist-packages (from gymnasium[box2d]) (2.6.1)\n",
            "Collecting swig==4.* (from gymnasium[box2d])\n",
            "  Downloading swig-4.3.1-py3-none-manylinux_2_12_x86_64.manylinux2010_x86_64.whl.metadata (3.5 kB)\n",
            "Requirement already satisfied: decorator<5.0,>=4.0.2 in /usr/local/lib/python3.11/dist-packages (from moviepy) (4.4.2)\n",
            "Requirement already satisfied: tqdm<5.0,>=4.11.2 in /usr/local/lib/python3.11/dist-packages (from moviepy) (4.67.1)\n",
            "Requirement already satisfied: requests<3.0,>=2.8.1 in /usr/local/lib/python3.11/dist-packages (from moviepy) (2.32.3)\n",
            "Requirement already satisfied: proglog<=1.0.0 in /usr/local/lib/python3.11/dist-packages (from moviepy) (0.1.11)\n",
            "Requirement already satisfied: imageio<3.0,>=2.5 in /usr/local/lib/python3.11/dist-packages (from moviepy) (2.37.0)\n",
            "Requirement already satisfied: imageio-ffmpeg>=0.2.0 in /usr/local/lib/python3.11/dist-packages (from moviepy) (0.6.0)\n",
            "Requirement already satisfied: contourpy>=1.0.1 in /usr/local/lib/python3.11/dist-packages (from matplotlib) (1.3.2)\n",
            "Requirement already satisfied: cycler>=0.10 in /usr/local/lib/python3.11/dist-packages (from matplotlib) (0.12.1)\n",
            "Requirement already satisfied: fonttools>=4.22.0 in /usr/local/lib/python3.11/dist-packages (from matplotlib) (4.57.0)\n",
            "Requirement already satisfied: kiwisolver>=1.3.1 in /usr/local/lib/python3.11/dist-packages (from matplotlib) (1.4.8)\n",
            "Requirement already satisfied: packaging>=20.0 in /usr/local/lib/python3.11/dist-packages (from matplotlib) (24.2)\n",
            "Requirement already satisfied: pillow>=8 in /usr/local/lib/python3.11/dist-packages (from matplotlib) (11.1.0)\n",
            "Requirement already satisfied: pyparsing>=2.3.1 in /usr/local/lib/python3.11/dist-packages (from matplotlib) (3.2.3)\n",
            "Requirement already satisfied: python-dateutil>=2.7 in /usr/local/lib/python3.11/dist-packages (from matplotlib) (2.8.2)\n",
            "Requirement already satisfied: six>=1.5 in /usr/local/lib/python3.11/dist-packages (from python-dateutil>=2.7->matplotlib) (1.17.0)\n",
            "Requirement already satisfied: charset-normalizer<4,>=2 in /usr/local/lib/python3.11/dist-packages (from requests<3.0,>=2.8.1->moviepy) (3.4.1)\n",
            "Requirement already satisfied: idna<4,>=2.5 in /usr/local/lib/python3.11/dist-packages (from requests<3.0,>=2.8.1->moviepy) (3.10)\n",
            "Requirement already satisfied: urllib3<3,>=1.21.1 in /usr/local/lib/python3.11/dist-packages (from requests<3.0,>=2.8.1->moviepy) (2.3.0)\n",
            "Requirement already satisfied: certifi>=2017.4.17 in /usr/local/lib/python3.11/dist-packages (from requests<3.0,>=2.8.1->moviepy) (2025.1.31)\n",
            "Downloading swig-4.3.1-py3-none-manylinux_2_12_x86_64.manylinux2010_x86_64.whl (1.9 MB)\n",
            "\u001b[2K   \u001b[90m━━━━━━━━━━━━━━━━━━━━━━━━━━━━━━━━━━━━━━━━\u001b[0m \u001b[32m1.9/1.9 MB\u001b[0m \u001b[31m28.7 MB/s\u001b[0m eta \u001b[36m0:00:00\u001b[0m\n",
            "\u001b[?25hBuilding wheels for collected packages: box2d-py\n",
            "  \u001b[1;31merror\u001b[0m: \u001b[1msubprocess-exited-with-error\u001b[0m\n",
            "  \n",
            "  \u001b[31m×\u001b[0m \u001b[32mpython setup.py bdist_wheel\u001b[0m did not run successfully.\n",
            "  \u001b[31m│\u001b[0m exit code: \u001b[1;36m1\u001b[0m\n",
            "  \u001b[31m╰─>\u001b[0m See above for output.\n",
            "  \n",
            "  \u001b[1;35mnote\u001b[0m: This error originates from a subprocess, and is likely not a problem with pip.\n",
            "  Building wheel for box2d-py (setup.py) ... \u001b[?25lerror\n",
            "\u001b[31m  ERROR: Failed building wheel for box2d-py\u001b[0m\u001b[31m\n",
            "\u001b[0m\u001b[?25h  Running setup.py clean for box2d-py\n",
            "Failed to build box2d-py\n",
            "\u001b[31mERROR: ERROR: Failed to build installable wheels for some pyproject.toml based projects (box2d-py)\u001b[0m\u001b[31m\n",
            "\u001b[0m"
          ]
        }
      ],
      "source": [
        "!pip install gymnasium[box2d] moviepy matplotlib"
      ]
    },
    {
      "cell_type": "code",
      "source": [
        "!pip install ipykernel\n",
        "!python -m ipykernel install --user --name=rl_env"
      ],
      "metadata": {
        "colab": {
          "base_uri": "https://localhost:8080/"
        },
        "id": "czDpTC5F82NH",
        "outputId": "e50c3ba9-9d15-4594-a3ec-b894c4284f5c"
      },
      "execution_count": null,
      "outputs": [
        {
          "output_type": "stream",
          "name": "stdout",
          "text": [
            "Requirement already satisfied: ipykernel in /usr/local/lib/python3.11/dist-packages (6.17.1)\n",
            "Requirement already satisfied: debugpy>=1.0 in /usr/local/lib/python3.11/dist-packages (from ipykernel) (1.8.0)\n",
            "Requirement already satisfied: ipython>=7.23.1 in /usr/local/lib/python3.11/dist-packages (from ipykernel) (7.34.0)\n",
            "Requirement already satisfied: jupyter-client>=6.1.12 in /usr/local/lib/python3.11/dist-packages (from ipykernel) (6.1.12)\n",
            "Requirement already satisfied: matplotlib-inline>=0.1 in /usr/local/lib/python3.11/dist-packages (from ipykernel) (0.1.7)\n",
            "Requirement already satisfied: nest-asyncio in /usr/local/lib/python3.11/dist-packages (from ipykernel) (1.6.0)\n",
            "Requirement already satisfied: packaging in /usr/local/lib/python3.11/dist-packages (from ipykernel) (24.2)\n",
            "Requirement already satisfied: psutil in /usr/local/lib/python3.11/dist-packages (from ipykernel) (5.9.5)\n",
            "Requirement already satisfied: pyzmq>=17 in /usr/local/lib/python3.11/dist-packages (from ipykernel) (24.0.1)\n",
            "Requirement already satisfied: tornado>=6.1 in /usr/local/lib/python3.11/dist-packages (from ipykernel) (6.4.2)\n",
            "Requirement already satisfied: traitlets>=5.1.0 in /usr/local/lib/python3.11/dist-packages (from ipykernel) (5.7.1)\n",
            "Requirement already satisfied: setuptools>=18.5 in /usr/local/lib/python3.11/dist-packages (from ipython>=7.23.1->ipykernel) (75.2.0)\n",
            "Requirement already satisfied: jedi>=0.16 in /usr/local/lib/python3.11/dist-packages (from ipython>=7.23.1->ipykernel) (0.19.2)\n",
            "Requirement already satisfied: decorator in /usr/local/lib/python3.11/dist-packages (from ipython>=7.23.1->ipykernel) (4.4.2)\n",
            "Requirement already satisfied: pickleshare in /usr/local/lib/python3.11/dist-packages (from ipython>=7.23.1->ipykernel) (0.7.5)\n",
            "Requirement already satisfied: prompt-toolkit!=3.0.0,!=3.0.1,<3.1.0,>=2.0.0 in /usr/local/lib/python3.11/dist-packages (from ipython>=7.23.1->ipykernel) (3.0.51)\n",
            "Requirement already satisfied: pygments in /usr/local/lib/python3.11/dist-packages (from ipython>=7.23.1->ipykernel) (2.18.0)\n",
            "Requirement already satisfied: backcall in /usr/local/lib/python3.11/dist-packages (from ipython>=7.23.1->ipykernel) (0.2.0)\n",
            "Requirement already satisfied: pexpect>4.3 in /usr/local/lib/python3.11/dist-packages (from ipython>=7.23.1->ipykernel) (4.9.0)\n",
            "Requirement already satisfied: jupyter-core>=4.6.0 in /usr/local/lib/python3.11/dist-packages (from jupyter-client>=6.1.12->ipykernel) (5.7.2)\n",
            "Requirement already satisfied: python-dateutil>=2.1 in /usr/local/lib/python3.11/dist-packages (from jupyter-client>=6.1.12->ipykernel) (2.8.2)\n",
            "Requirement already satisfied: parso<0.9.0,>=0.8.4 in /usr/local/lib/python3.11/dist-packages (from jedi>=0.16->ipython>=7.23.1->ipykernel) (0.8.4)\n",
            "Requirement already satisfied: platformdirs>=2.5 in /usr/local/lib/python3.11/dist-packages (from jupyter-core>=4.6.0->jupyter-client>=6.1.12->ipykernel) (4.3.7)\n",
            "Requirement already satisfied: ptyprocess>=0.5 in /usr/local/lib/python3.11/dist-packages (from pexpect>4.3->ipython>=7.23.1->ipykernel) (0.7.0)\n",
            "Requirement already satisfied: wcwidth in /usr/local/lib/python3.11/dist-packages (from prompt-toolkit!=3.0.0,!=3.0.1,<3.1.0,>=2.0.0->ipython>=7.23.1->ipykernel) (0.2.13)\n",
            "Requirement already satisfied: six>=1.5 in /usr/local/lib/python3.11/dist-packages (from python-dateutil>=2.1->jupyter-client>=6.1.12->ipykernel) (1.17.0)\n",
            "0.00s - Debugger warning: It seems that frozen modules are being used, which may\n",
            "0.00s - make the debugger miss breakpoints. Please pass -Xfrozen_modules=off\n",
            "0.00s - to python to disable frozen modules.\n",
            "0.00s - Note: Debugging will proceed. Set PYDEVD_DISABLE_FILE_VALIDATION=1 to disable this validation.\n",
            "Installed kernelspec rl_env in /root/.local/share/jupyter/kernels/rl_env\n"
          ]
        }
      ]
    },
    {
      "cell_type": "code",
      "source": [
        "import gymnasium as gym\n",
        "from moviepy.editor import ImageSequenceClip\n",
        "\n",
        "# Initialize environment\n",
        "env = gym.make(\"CartPole-v1\", render_mode=\"rgb_array\")\n",
        "\n",
        "frames = []\n",
        "done = False\n",
        "frame_count = 0\n",
        "target_frames = 180  # 6 seconds at 30 FPS\n",
        "\n",
        "obs, _ = env.reset()\n",
        "\n",
        "while not done and frame_count < target_frames:\n",
        "    frames.append(env.render())\n",
        "\n",
        "    # Better controller based on angle and angular velocity\n",
        "    pole_angle = obs[2]\n",
        "    pole_velocity = obs[3]\n",
        "\n",
        "    action = 0 if (pole_angle + 0.5 * pole_velocity) < 0 else 1\n",
        "\n",
        "    obs, reward, terminated, truncated, _ = env.step(action)\n",
        "    done = terminated or truncated\n",
        "\n",
        "    frame_count += 1\n",
        "\n",
        "env.close()\n",
        "\n",
        "# Save the video if survived\n",
        "if frame_count == target_frames:\n",
        "    clip = ImageSequenceClip(frames, fps=30)\n",
        "    clip.write_videofile(\"/content/cartpole_balanced_6s.mp4\", codec=\"libx264\")\n",
        "    print(\"✅ Successfully balanced for 6 seconds and saved the video!\")\n",
        "else:\n",
        "    print(\"❌ Failed to balance for full 6 seconds. Try again.\")\n",
        "\n"
      ],
      "metadata": {
        "collapsed": true,
        "id": "4nUIrZae9hl2",
        "colab": {
          "base_uri": "https://localhost:8080/"
        },
        "outputId": "c27b0c90-9c20-4c4a-972f-e25cb3c71dda"
      },
      "execution_count": 3,
      "outputs": [
        {
          "output_type": "stream",
          "name": "stdout",
          "text": [
            "Moviepy - Building video /content/cartpole_balanced_6s.mp4.\n",
            "Moviepy - Writing video /content/cartpole_balanced_6s.mp4\n",
            "\n"
          ]
        },
        {
          "output_type": "stream",
          "name": "stderr",
          "text": []
        },
        {
          "output_type": "stream",
          "name": "stdout",
          "text": [
            "Moviepy - Done !\n",
            "Moviepy - video ready /content/cartpole_balanced_6s.mp4\n",
            "✅ Successfully balanced for 6 seconds and saved the video!\n"
          ]
        }
      ]
    },
    {
      "cell_type": "code",
      "source": [
        "from IPython.display import HTML\n",
        "from base64 import b64encode\n",
        "\n",
        "# Open the correct video\n",
        "mp4 = open(\"/content/cartpole_balanced_6s.mp4\", 'rb').read()\n",
        "data_url = \"data:video/mp4;base64,\" + b64encode(mp4).decode()\n",
        "\n",
        "# Embed it into the notebook\n",
        "HTML(f'<video width=400 controls><source src=\"{data_url}\" type=\"video/mp4\"></video>')\n",
        "\n"
      ],
      "metadata": {
        "colab": {
          "base_uri": "https://localhost:8080/",
          "height": 288
        },
        "id": "cYYsOW5Y9nLv",
        "outputId": "7091d431-81bb-4950-c608-f22a2b6302d3"
      },
      "execution_count": 5,
      "outputs": [
        {
          "output_type": "execute_result",
          "data": {
            "text/plain": [
              "<IPython.core.display.HTML object>"
            ],
            "text/html": [
              "<video width=400 controls><source src=\"data:video/mp4;base64,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\" type=\"video/mp4\"></video>"
            ]
          },
          "metadata": {},
          "execution_count": 5
        }
      ]
    }
  ]
}