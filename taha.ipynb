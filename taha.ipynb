{
  "cells": [
    {
      "cell_type": "markdown",
      "metadata": {
        "id": "view-in-github"
      },
      "source": [
        "<a href=\"https://colab.research.google.com/github/ProValarous/Reinforcement-Learning-Labs/blob/main/Rec_module_2.ipynb\" target=\"_parent\"><img src=\"https://colab.research.google.com/assets/colab-badge.svg\" alt=\"Open In Colab\"/></a>"
      ]
    },
    {
      "cell_type": "markdown",
      "metadata": {
        "id": "NXh6tvrFSRj3"
      },
      "source": [
        "# Recitation Module #2: Dynammic Programming & Monte Carlo Methods\n",
        "\n",
        "Topics covered:\n",
        "- Value Iteration\n",
        "- Policy Interation\n",
        "- Monte-Carlo Prediction\n"
      ]
    },
    {
      "cell_type": "markdown",
      "metadata": {
        "id": "d8HzL-UCzQBl"
      },
      "source": [
        "## Importing Libraries and Dependencies\n"
      ]
    },
    {
      "cell_type": "code",
      "execution_count": 1,
      "metadata": {
        "id": "Lm6lY8G7zOZm",
        "colab": {
          "base_uri": "https://localhost:8080/"
        },
        "outputId": "b42147ec-db07-44e2-a59f-a218032271c2"
      },
      "outputs": [
        {
          "output_type": "stream",
          "name": "stdout",
          "text": [
            "Requirement already satisfied: setuptools in /usr/local/lib/python3.11/dist-packages (78.1.0)\n"
          ]
        }
      ],
      "source": [
        "# HIDE OUTPUT\n",
        "!apt-get update > /dev/null 2>&1\n",
        "!apt-get install cmake > /dev/null 2>&1\n",
        "!pip install --upgrade setuptools 2>&1\n",
        "!pip install ez_setup > /dev/null 2>&1\n",
        "!pip install gym[atari] > /dev/null 2>&1"
      ]
    },
    {
      "cell_type": "code",
      "execution_count": 2,
      "metadata": {
        "id": "dZLt4ZtDzb0W",
        "colab": {
          "base_uri": "https://localhost:8080/"
        },
        "outputId": "ea96787b-f8a5-4db3-b03a-2933300ff524"
      },
      "outputs": [
        {
          "output_type": "stream",
          "name": "stdout",
          "text": [
            "Reading package lists... Done\n",
            "Building dependency tree... Done\n",
            "Reading state information... Done\n",
            "The following additional packages will be installed:\n",
            "  libfontenc1 libxfont2 libxkbfile1 x11-xkb-utils xfonts-base xfonts-encodings\n",
            "  xfonts-utils xserver-common\n",
            "The following NEW packages will be installed:\n",
            "  libfontenc1 libxfont2 libxkbfile1 x11-xkb-utils xfonts-base xfonts-encodings\n",
            "  xfonts-utils xserver-common xvfb\n",
            "0 upgraded, 9 newly installed, 0 to remove and 39 not upgraded.\n",
            "Need to get 7,817 kB of archives.\n",
            "After this operation, 12.0 MB of additional disk space will be used.\n",
            "Get:1 http://archive.ubuntu.com/ubuntu jammy/main amd64 libfontenc1 amd64 1:1.1.4-1build3 [14.7 kB]\n",
            "Get:2 http://archive.ubuntu.com/ubuntu jammy/main amd64 libxfont2 amd64 1:2.0.5-1build1 [94.5 kB]\n",
            "Get:3 http://archive.ubuntu.com/ubuntu jammy/main amd64 libxkbfile1 amd64 1:1.1.0-1build3 [71.8 kB]\n",
            "Get:4 http://archive.ubuntu.com/ubuntu jammy/main amd64 x11-xkb-utils amd64 7.7+5build4 [172 kB]\n",
            "Get:5 http://archive.ubuntu.com/ubuntu jammy/main amd64 xfonts-encodings all 1:1.0.5-0ubuntu2 [578 kB]\n",
            "Get:6 http://archive.ubuntu.com/ubuntu jammy/main amd64 xfonts-utils amd64 1:7.7+6build2 [94.6 kB]\n",
            "Get:7 http://archive.ubuntu.com/ubuntu jammy/main amd64 xfonts-base all 1:1.0.5 [5,896 kB]\n",
            "Get:8 http://archive.ubuntu.com/ubuntu jammy-updates/main amd64 xserver-common all 2:21.1.4-2ubuntu1.7~22.04.14 [29.2 kB]\n",
            "Get:9 http://archive.ubuntu.com/ubuntu jammy-updates/universe amd64 xvfb amd64 2:21.1.4-2ubuntu1.7~22.04.14 [866 kB]\n",
            "Fetched 7,817 kB in 0s (21.3 MB/s)\n",
            "debconf: unable to initialize frontend: Dialog\n",
            "debconf: (No usable dialog-like program is installed, so the dialog based frontend cannot be used. at /usr/share/perl5/Debconf/FrontEnd/Dialog.pm line 78, <> line 9.)\n",
            "debconf: falling back to frontend: Readline\n",
            "debconf: unable to initialize frontend: Readline\n",
            "debconf: (This frontend requires a controlling tty.)\n",
            "debconf: falling back to frontend: Teletype\n",
            "dpkg-preconfigure: unable to re-open stdin: \n",
            "Selecting previously unselected package libfontenc1:amd64.\n",
            "(Reading database ... 126213 files and directories currently installed.)\n",
            "Preparing to unpack .../0-libfontenc1_1%3a1.1.4-1build3_amd64.deb ...\n",
            "Unpacking libfontenc1:amd64 (1:1.1.4-1build3) ...\n",
            "Selecting previously unselected package libxfont2:amd64.\n",
            "Preparing to unpack .../1-libxfont2_1%3a2.0.5-1build1_amd64.deb ...\n",
            "Unpacking libxfont2:amd64 (1:2.0.5-1build1) ...\n",
            "Selecting previously unselected package libxkbfile1:amd64.\n",
            "Preparing to unpack .../2-libxkbfile1_1%3a1.1.0-1build3_amd64.deb ...\n",
            "Unpacking libxkbfile1:amd64 (1:1.1.0-1build3) ...\n",
            "Selecting previously unselected package x11-xkb-utils.\n",
            "Preparing to unpack .../3-x11-xkb-utils_7.7+5build4_amd64.deb ...\n",
            "Unpacking x11-xkb-utils (7.7+5build4) ...\n",
            "Selecting previously unselected package xfonts-encodings.\n",
            "Preparing to unpack .../4-xfonts-encodings_1%3a1.0.5-0ubuntu2_all.deb ...\n",
            "Unpacking xfonts-encodings (1:1.0.5-0ubuntu2) ...\n",
            "Selecting previously unselected package xfonts-utils.\n",
            "Preparing to unpack .../5-xfonts-utils_1%3a7.7+6build2_amd64.deb ...\n",
            "Unpacking xfonts-utils (1:7.7+6build2) ...\n",
            "Selecting previously unselected package xfonts-base.\n",
            "Preparing to unpack .../6-xfonts-base_1%3a1.0.5_all.deb ...\n",
            "Unpacking xfonts-base (1:1.0.5) ...\n",
            "Selecting previously unselected package xserver-common.\n",
            "Preparing to unpack .../7-xserver-common_2%3a21.1.4-2ubuntu1.7~22.04.14_all.deb ...\n",
            "Unpacking xserver-common (2:21.1.4-2ubuntu1.7~22.04.14) ...\n",
            "Selecting previously unselected package xvfb.\n",
            "Preparing to unpack .../8-xvfb_2%3a21.1.4-2ubuntu1.7~22.04.14_amd64.deb ...\n",
            "Unpacking xvfb (2:21.1.4-2ubuntu1.7~22.04.14) ...\n",
            "Setting up libfontenc1:amd64 (1:1.1.4-1build3) ...\n",
            "Setting up xfonts-encodings (1:1.0.5-0ubuntu2) ...\n",
            "Setting up libxkbfile1:amd64 (1:1.1.0-1build3) ...\n",
            "Setting up libxfont2:amd64 (1:2.0.5-1build1) ...\n",
            "Setting up x11-xkb-utils (7.7+5build4) ...\n",
            "Setting up xfonts-utils (1:7.7+6build2) ...\n",
            "Setting up xfonts-base (1:1.0.5) ...\n",
            "Setting up xserver-common (2:21.1.4-2ubuntu1.7~22.04.14) ...\n",
            "Setting up xvfb (2:21.1.4-2ubuntu1.7~22.04.14) ...\n",
            "Processing triggers for man-db (2.10.2-1) ...\n",
            "Processing triggers for fontconfig (2.13.1-4.2ubuntu5) ...\n",
            "Processing triggers for libc-bin (2.35-0ubuntu3.8) ...\n",
            "/sbin/ldconfig.real: /usr/local/lib/libtcm_debug.so.1 is not a symbolic link\n",
            "\n",
            "/sbin/ldconfig.real: /usr/local/lib/libur_loader.so.0 is not a symbolic link\n",
            "\n",
            "/sbin/ldconfig.real: /usr/local/lib/libumf.so.0 is not a symbolic link\n",
            "\n",
            "/sbin/ldconfig.real: /usr/local/lib/libtbbmalloc.so.2 is not a symbolic link\n",
            "\n",
            "/sbin/ldconfig.real: /usr/local/lib/libtbbbind_2_5.so.3 is not a symbolic link\n",
            "\n",
            "/sbin/ldconfig.real: /usr/local/lib/libur_adapter_level_zero.so.0 is not a symbolic link\n",
            "\n",
            "/sbin/ldconfig.real: /usr/local/lib/libtbbbind_2_0.so.3 is not a symbolic link\n",
            "\n",
            "/sbin/ldconfig.real: /usr/local/lib/libtbbbind.so.3 is not a symbolic link\n",
            "\n",
            "/sbin/ldconfig.real: /usr/local/lib/libtbb.so.12 is not a symbolic link\n",
            "\n",
            "/sbin/ldconfig.real: /usr/local/lib/libur_adapter_opencl.so.0 is not a symbolic link\n",
            "\n",
            "/sbin/ldconfig.real: /usr/local/lib/libtcm.so.1 is not a symbolic link\n",
            "\n",
            "/sbin/ldconfig.real: /usr/local/lib/libhwloc.so.15 is not a symbolic link\n",
            "\n",
            "/sbin/ldconfig.real: /usr/local/lib/libtbbmalloc_proxy.so.2 is not a symbolic link\n",
            "\n",
            "Collecting xvfbwrapper\n",
            "  Downloading xvfbwrapper-0.2.10-py3-none-any.whl.metadata (6.9 kB)\n",
            "Downloading xvfbwrapper-0.2.10-py3-none-any.whl (6.1 kB)\n",
            "Installing collected packages: xvfbwrapper\n",
            "Successfully installed xvfbwrapper-0.2.10\n",
            "Requirement already satisfied: gymnasium in /usr/local/lib/python3.11/dist-packages (1.1.1)\n",
            "Requirement already satisfied: numpy>=1.21.0 in /usr/local/lib/python3.11/dist-packages (from gymnasium) (2.0.2)\n",
            "Requirement already satisfied: cloudpickle>=1.2.0 in /usr/local/lib/python3.11/dist-packages (from gymnasium) (3.1.1)\n",
            "Requirement already satisfied: typing-extensions>=4.3.0 in /usr/local/lib/python3.11/dist-packages (from gymnasium) (4.13.1)\n",
            "Requirement already satisfied: farama-notifications>=0.0.1 in /usr/local/lib/python3.11/dist-packages (from gymnasium) (0.0.4)\n"
          ]
        }
      ],
      "source": [
        "# HIDE OUTPUT\n",
        "!pip install gym pyvirtualdisplay > /dev/null 2>&1\n",
        "!apt-get install -y xvfb python-opengl ffmpeg > /dev/null 2>&1\n",
        "!sudo apt-get install xvfb\n",
        "!pip install xvfbwrapper\n",
        "!pip install gymnasium"
      ]
    },
    {
      "cell_type": "code",
      "execution_count": 3,
      "metadata": {
        "id": "Rsnoz7pDzfdM"
      },
      "outputs": [],
      "source": [
        "%matplotlib inline\n",
        "import gym\n",
        "import gymnasium as gym\n",
        "import numpy as np\n",
        "from gym.wrappers.record_video import RecordVideo\n",
        "import glob\n",
        "import io\n",
        "import base64\n",
        "from IPython.display import HTML\n",
        "from pyvirtualdisplay import Display\n",
        "from IPython import display as ipythondisplay\n",
        "from matplotlib import pyplot as plt\n",
        "import base64\n",
        "import glob\n",
        "from IPython.display import HTML, display\n",
        "from collections import defaultdict\n",
        "import os"
      ]
    },
    {
      "cell_type": "code",
      "execution_count": 92,
      "metadata": {
        "id": "C4jTuXs1zlPE",
        "colab": {
          "base_uri": "https://localhost:8080/"
        },
        "outputId": "4d86a860-7e97-45bb-8c6c-10ed6b32cea3"
      },
      "outputs": [
        {
          "output_type": "stream",
          "name": "stdout",
          "text": [
            "Video display settings: visible=0, size=(1400, 900)\n"
          ]
        }
      ],
      "source": [
        "from IPython.display import HTML, display as ipythondisplay\n",
        "from gymnasium.wrappers import RecordVideo\n",
        "from gymnasium.envs.toy_text.frozen_lake import generate_random_map\n",
        "\n",
        "# Utility class to handle video display configuration\n",
        "class VideoDisplay:\n",
        "    def __init__(self, visible=0, size=(1400, 900)):\n",
        "        self.visible = visible\n",
        "        self.size = size\n",
        "\n",
        "    def start(self):\n",
        "        print(f\"Video display settings: visible={self.visible}, size={self.size}\")\n",
        "\n",
        "# Create the virtual display instance\n",
        "virtual_display = VideoDisplay(visible=0, size=(1400, 900))\n",
        "virtual_display.start()\n",
        "\n",
        "def display_recorded_video(video_folder='./video'):\n",
        "    \"\"\"\n",
        "    Displays the most recent video recorded in the specified folder.\n",
        "    \"\"\"\n",
        "    video_files = glob.glob(os.path.join(video_folder, \"*.mp4\"))\n",
        "    if not video_files:\n",
        "        print(f\"No video found in {video_folder}\")\n",
        "        return\n",
        "\n",
        "    video_path = video_files[0]\n",
        "    with open(video_path, 'rb') as video_file:\n",
        "        video_data = video_file.read()\n",
        "\n",
        "    encoded_video = base64.b64encode(video_data).decode('ascii')\n",
        "\n",
        "    video_html = f\"\"\"\n",
        "    <video width=\"640\" height=\"480\" controls autoplay loop>\n",
        "        <source src=\"data:video/mp4;base64,{encoded_video}\" type=\"video/mp4\">\n",
        "    </video>\n",
        "    \"\"\"\n",
        "    ipythondisplay(HTML(data=video_html))\n",
        "\n",
        "def wrap_environment_for_video(environment, video_folder='./video'):\n",
        "    \"\"\"\n",
        "    Wraps the environment with the video recording feature.\n",
        "    \"\"\"\n",
        "    os.makedirs(video_folder, exist_ok=True)\n",
        "    return RecordVideo(environment, video_folder=video_folder, episode_trigger=lambda episode: True)\n"
      ]
    },
    {
      "cell_type": "markdown",
      "metadata": {
        "id": "UV02S0DVToWZ"
      },
      "source": [
        "### Techniques for solving MDPs can be separated into three categories:\n",
        "\n",
        "1. **Value-based techniques:** aim to learn the value of states (or learn an estimate for value of states) and\n",
        "actions: that is, they learn value functions or Q functions. We then use policy extraction to get a\n",
        "policy for deciding actions.\n",
        "2. **Policy-based techniques:** learn a policy directly, which completely by-passes learning values of states\n",
        "or actions all together. This is important if for example, the state space or the action space are massive\n",
        "or infinite. If the action space is infinite, then using policy extraction as defined in Part I is not\n",
        "possible because we must iterate over all actions to find the optimal one. If we learn the policy\n",
        "directly, we do not need this.\n",
        "3. **Hybrid techniques:** that combine value- and policy-based techniques"
      ]
    },
    {
      "cell_type": "markdown",
      "metadata": {
        "id": "JwqNjI8rB4lr"
      },
      "source": [
        "## Value Iteration\n",
        "\n",
        "Value Iteration is a dynamic-programming method for finding the optimal value function $V^*$ by solving the\n",
        "Bellman equations iteratively. It uses the concept of dynamic programming to maintain a value function $V^*$\n",
        "that approximates the optimal value function $V^*$ , iteratively improving $V$ until it converges to $V^*$ (or\n",
        "close to it).\n",
        "\n",
        "\n",
        "\n",
        "**The algorithm is as follows:**\n",
        "\n",
        "**Input:** MDP $M = \\langle S, s_0, A, P_a(s' \\mid s), r(s, a, s') \\rangle$  \n",
        "**Output:** Value function $V$  \n",
        "\n",
        "Set $V$ to arbitrary value function; e.g., $V(s) = 0$ for all $s$  \n",
        "\n",
        "---\n",
        "\n",
        "**Repeat**  \n",
        "- $\\Delta \\gets 0$  \n",
        "- **For each** $s \\in S$  \n",
        "  - $V'(s) \\gets \\max_{a \\in A(s)} \\sum_{s' \\in S} P_a(s' \\mid s) \\left[ r(s, a, s') + \\gamma V(s') \\right]$ ← _Bellman equation_  \n",
        "  - $\\Delta \\gets \\max(\\Delta, |V'(s) - V(s)|)$  \n",
        "- $V \\gets V'$  \n",
        "\n",
        "**Until** $\\Delta \\leq \\theta$  \n",
        "\n",
        "---\n",
        "\n"
      ]
    },
    {
      "cell_type": "markdown",
      "metadata": {
        "id": "HIZMkZqSCGWl"
      },
      "source": [
        "We could also write the algorithm using the idea of Q-values, which is closer to a code-based\n",
        "implementation:\n",
        "\n",
        "<img src=\"https://lcalem.github.io/imgs/sutton/value_iteration.png\" alt=\"Value Iteration\" width=\"700\" height=\"300\">\n"
      ]
    },
    {
      "cell_type": "code",
      "execution_count": 77,
      "metadata": {
        "id": "eMxJpfYlCJZA"
      },
      "outputs": [],
      "source": [
        "def perform_value_iteration(environment, discount_factor=1.0, max_iterations=100000, convergence_threshold=1e-20):\n",
        "    \"\"\"\n",
        "    Perform value iteration to compute the optimal value function for the given environment.\n",
        "    \"\"\"\n",
        "    value_function = np.zeros(environment.observation_space.n)\n",
        "\n",
        "    for iteration in range(max_iterations):\n",
        "        updated_value_function = np.copy(value_function)\n",
        "\n",
        "        for state in range(environment.observation_space.n):\n",
        "            action_values = []\n",
        "            for action in range(environment.action_space.n):\n",
        "                q_value = 0\n",
        "                for prob, next_state, reward, done in environment.P[state][action]:\n",
        "                    q_value += prob * (reward + discount_factor * value_function[next_state])\n",
        "                action_values.append(q_value)\n",
        "\n",
        "            updated_value_function[state] = max(action_values)\n",
        "\n",
        "        if np.sum(np.abs(updated_value_function - value_function)) <= convergence_threshold:\n",
        "            print(f\"Value iteration converged at iteration {iteration}\")\n",
        "            break\n",
        "\n",
        "        value_function = updated_value_function\n",
        "\n",
        "    return value_function"
      ]
    },
    {
      "cell_type": "code",
      "execution_count": 78,
      "metadata": {
        "id": "ImwL44zMCM4Q"
      },
      "outputs": [],
      "source": [
        "def generate_optimal_policy(environment, value_function, discount_factor=0.9):\n",
        "    \"\"\"\n",
        "    Generate the optimal policy based on the value function.\n",
        "    \"\"\"\n",
        "    optimal_policy = np.zeros(environment.observation_space.n, dtype=int)\n",
        "\n",
        "    for state in range(environment.observation_space.n):\n",
        "        action_values = []\n",
        "        for action in range(environment.action_space.n):\n",
        "            q_value = 0\n",
        "            for prob, next_state, reward, done in environment.P[state][action]:\n",
        "                q_value += prob * (reward + discount_factor * value_function[next_state])\n",
        "            action_values.append(q_value)\n",
        "\n",
        "        optimal_policy[state] = np.argmax(action_values)\n",
        "\n",
        "    return optimal_policy"
      ]
    },
    {
      "cell_type": "code",
      "execution_count": 79,
      "metadata": {
        "id": "W6xV8v3DCYbp",
        "colab": {
          "base_uri": "https://localhost:8080/"
        },
        "outputId": "8bc273cb-c593-490b-a8b3-cb9871cbf582"
      },
      "outputs": [
        {
          "output_type": "stream",
          "name": "stdout",
          "text": [
            "Found a solvable map.\n"
          ]
        }
      ],
      "source": [
        "import gymnasium as gym\n",
        "from gymnasium.envs.toy_text.frozen_lake import generate_random_map\n",
        "\n",
        "def test_if_goal_is_reachable(environment, max_steps=200):\n",
        "    \"\"\"\n",
        "    Test if the goal is reachable using a random policy.\n",
        "    \"\"\"\n",
        "    env = environment.unwrapped\n",
        "    state, _ = env.reset()\n",
        "\n",
        "    for _ in range(max_steps):\n",
        "        action = env.action_space.sample()  # Random action\n",
        "        state, reward, terminated, truncated, _ = env.step(action)\n",
        "        done = terminated or truncated\n",
        "\n",
        "        if reward == 1.0:  # Goal is reached\n",
        "            return True\n",
        "        if done:\n",
        "            break\n",
        "\n",
        "    return False\n",
        "\n",
        "# Try generating a valid solvable map\n",
        "valid_env = None\n",
        "while valid_env is None:\n",
        "    custom_map = generate_random_map(size=8)\n",
        "    env_train = gym.make('FrozenLake-v1', desc=custom_map, render_mode=\"rgb_array\", is_slippery=False)\n",
        "\n",
        "    if test_if_goal_is_reachable(env_train):\n",
        "        valid_env = env_train  # Found a solvable map\n",
        "\n",
        "print(\"Found a solvable map.\")"
      ]
    },
    {
      "cell_type": "code",
      "execution_count": 80,
      "metadata": {
        "id": "dHlN2bZ9Ca-s",
        "colab": {
          "base_uri": "https://localhost:8080/"
        },
        "outputId": "6891e1f7-7f5a-418e-9495-de9767096426"
      },
      "outputs": [
        {
          "output_type": "stream",
          "name": "stdout",
          "text": [
            "Value iteration converged at iteration 14\n"
          ]
        }
      ],
      "source": [
        "# Create and initialize the environment (Unwrap to access `P`)\n",
        "env = gym.make('FrozenLake-v1', desc=generate_random_map(size=8), render_mode=\"rgb_array\", is_slippery=False)\n",
        "env = env.unwrapped  # Unwrap to access `P` for value iteration\n",
        "\n",
        "# Now perform value iteration on the unwrapped environment\n",
        "optimal_value_function = perform_value_iteration(environment=env, discount_factor=0.9)"
      ]
    },
    {
      "cell_type": "code",
      "execution_count": 81,
      "metadata": {
        "id": "hYbqsc23CfTo"
      },
      "outputs": [],
      "source": [
        "# Extract the optimal policy using the value function\n",
        "optimal_policy = generate_optimal_policy(environment=env, value_function=optimal_value_function, discount_factor=0.9)"
      ]
    },
    {
      "cell_type": "code",
      "execution_count": 82,
      "metadata": {
        "id": "mWa3rehwCfxL",
        "colab": {
          "base_uri": "https://localhost:8080/"
        },
        "outputId": "aea0cb46-ef1e-4f1f-f756-2f446ebd9636"
      },
      "outputs": [
        {
          "output_type": "stream",
          "name": "stdout",
          "text": [
            "Optimal Policy: [1 1 1 2 1 0 1 0 2 1 1 0 1 1 1 0 0 2 2 1 1 1 1 0 1 0 0 1 1 2 1 0 2 1 1 1 1\n",
            " 0 1 0 0 2 2 1 1 0 1 1 2 3 0 1 1 1 1 1 3 0 0 2 2 2 2 0]\n"
          ]
        }
      ],
      "source": [
        "# Print the optimal policy\n",
        "print(\"Optimal Policy:\", optimal_policy)"
      ]
    },
    {
      "cell_type": "code",
      "execution_count": 85,
      "metadata": {
        "id": "_je5ogVPCkyb"
      },
      "outputs": [],
      "source": [
        "# Wrap the environment to enable video recording\n",
        "env = wrap_environment_for_video(env)\n",
        "\n",
        "# Reset the environment\n",
        "state, _ = env.reset()\n",
        "\n",
        "# Follow the optimal policy\n",
        "next_state = state\n",
        "for _ in range(10000):\n",
        "    action = int(optimal_policy[state])  # Use the current state, not next_state\n",
        "    next_state, reward, terminated, truncated, info = env.step(action)\n",
        "    state = next_state  # Update state after action\n",
        "    done = terminated or truncated\n",
        "\n",
        "    if done:\n",
        "        break\n",
        "\n",
        "# Close the environment (this will automatically save the video)\n",
        "env.close()"
      ]
    },
    {
      "cell_type": "code",
      "execution_count": 86,
      "metadata": {
        "id": "HqlP0px7CmyC",
        "colab": {
          "base_uri": "https://localhost:8080/",
          "height": 502
        },
        "outputId": "5388710a-284a-429a-ab49-e18d4d879ff1"
      },
      "outputs": [
        {
          "output_type": "display_data",
          "data": {
            "text/plain": [
              "<IPython.core.display.HTML object>"
            ],
            "text/html": [
              "\n",
              "    <video width=\"640\" height=\"480\" controls autoplay loop>\n",
              "        <source src=\"data:video/mp4;base64,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\" type=\"video/mp4\">\n",
              "    </video>\n",
              "    "
            ]
          },
          "metadata": {}
        }
      ],
      "source": [
        "# Display Output\n",
        "display_recorded_video(video_folder='./video')\n"
      ]
    },
    {
      "cell_type": "markdown",
      "metadata": {
        "id": "ts9iXKRf_YDu"
      },
      "source": [
        "## **Policy Iteration**\n",
        "\n",
        "Policy Iteration is a fundamental method in **Dynamic Programming (DP)** to solve **Markov Decision Processes (MDPs)**. It helps find an optimal policy $ \\pi^* $ that maximizes the expected cumulative reward.\n",
        "\n",
        "---\n",
        "\n",
        "### **Key Idea**  \n",
        "Policy Iteration alternates between two steps:\n",
        "\n",
        "1. **Policy Evaluation** – Compute the value function $ V^\\pi(s) $ for a given policy $ \\pi $.\n",
        "2. **Policy Improvement** – Update the policy by selecting actions that maximize the expected reward.\n",
        "\n",
        "This repeats until the policy converges to the optimal policy.\n",
        "\n",
        "---\n",
        "\n",
        "### **Steps of Policy Iteration**\n",
        "1. **Initialize** a random policy $ \\pi_0 $.\n",
        "----\n",
        "2. **Policy Evaluation:**  \n",
        "   - Compute the value function $ V^\\pi(s) $ by solving the Bellman equation: $$ V^\\pi(s) = \\sum_{s'} P(s' | s, \\pi(s)) \\left[ R(s, \\pi(s), s') + \\gamma V^\\pi(s') \\right] $$\n",
        "   - This finds the expected reward for following $ \\pi $.\n",
        "\n",
        "**Here's a more algorithmic approach:**\n",
        "\n",
        "**Input:** $\\pi$ the policy for evaluation, $V^\\pi$ value function, and  \n",
        "MDP $M = \\langle S, s_0, A, P_a(s' \\mid s), r(s, a, s') \\rangle$  \n",
        "\n",
        "**Output:** Value function $V^\\pi$  \n",
        "\n",
        "**Repeat**  \n",
        "- $\\Delta \\gets 0$  \n",
        "- **For each** $s \\in S$  \n",
        "  - $$V'^\\pi(s) \\gets \\sum_{s' \\in S} P_{\\pi(s)}(s' \\mid s) \\left[ r(s, a, s') + \\gamma V^\\pi(s') \\right]$$  \n",
        "    _Policy evaluation equation_  \n",
        "  - $\\Delta \\gets \\max(\\Delta, |V'^\\pi(s) - V^\\pi(s)|)$  \n",
        "- $V^\\pi \\gets V'^\\pi$  \n",
        "\n",
        "**Until** $\\Delta \\leq \\theta$  \n",
        "\n",
        "-----\n",
        "\n",
        "3. **Policy Improvement:**  \n",
        "   - For each state $ s $, update the policy:$$ \\pi(s) = \\arg\\max_a \\sum_{s'} P(s' | s, a) \\left[ R(s, a, s') + \\gamma V^\\pi(s') \\right]$$\n",
        "   - If the policy doesn't change, stop. Otherwise, repeat from Step 2.\n",
        "\n",
        "---\n",
        "**Here's a full algorithmic Policy Iteration:**\n",
        "\n",
        "\n",
        "**Input:** MDP $M = \\langle S, s_0, A, P_a(s' \\mid s), r(s, a, s') \\rangle$  \n",
        "**Output:** Policy $\\pi$  \n",
        "\n",
        "Set $V^\\pi$ to arbitrary value function; e.g., $V^\\pi(s) = 0$ for all $s$  \n",
        "Set $\\pi$ to arbitrary policy; e.g., $\\pi(s) = a$ for all $s$, where $a \\in A$ is an arbitrary action  \n",
        "\n",
        "**Repeat**  \n",
        "- Compute $V^\\pi(s)$ for all $s$ *(using policy evaluation)*  \n",
        "- **For each** $s \\in S$:  \n",
        "  - $$\\pi(s) \\gets \\arg\\max_{a \\in A(s)} Q^\\pi(s, a)$$  \n",
        "- **Until** $\\pi$ does not change *(policy Improvement)*\n",
        "\n",
        "---\n",
        "\n",
        "### **Example: Grid World**\n",
        "Consider a 3×3 grid where an agent moves **up, down, left, or right** to reach a goal while receiving rewards.\n",
        "\n",
        "Policy Iteration helps the agent learn the best moves by:\n",
        "- Evaluating the current policy.\n",
        "- Updating the policy to improve its actions.\n",
        "- Repeating until the policy stops changing.\n",
        "\n",
        "---\n",
        "\n",
        "### **Comparison with Value Iteration**\n",
        "| **Method**          | **Approach** |\n",
        "|---------------------|-------------|\n",
        "| **Policy Iteration** | Alternates between policy evaluation and improvement. |\n",
        "| **Value Iteration**  | Updates values directly using the Bellman optimality equation. |\n",
        "\n",
        "Both find the optimal policy, but **Value Iteration** can be more efficient for large state spaces.\n",
        "\n",
        "---\n"
      ]
    },
    {
      "cell_type": "code",
      "execution_count": 93,
      "metadata": {
        "id": "HSnPHl-Xl-aT",
        "colab": {
          "base_uri": "https://localhost:8080/",
          "height": 356
        },
        "outputId": "b8409b3d-5791-4f99-88b8-7f53aac77f0c"
      },
      "outputs": [
        {
          "output_type": "error",
          "ename": "AttributeError",
          "evalue": "'TimeLimit' object has no attribute 'P'",
          "traceback": [
            "\u001b[0;31m---------------------------------------------------------------------------\u001b[0m",
            "\u001b[0;31mAttributeError\u001b[0m                            Traceback (most recent call last)",
            "\u001b[0;32m<ipython-input-93-6088ea46ac29>\u001b[0m in \u001b[0;36m<cell line: 0>\u001b[0;34m()\u001b[0m\n\u001b[1;32m     50\u001b[0m \u001b[0;34m\u001b[0m\u001b[0m\n\u001b[1;32m     51\u001b[0m \u001b[0;31m# Run policy iteration using the unwrapped environment (without video recording)\u001b[0m\u001b[0;34m\u001b[0m\u001b[0;34m\u001b[0m\u001b[0m\n\u001b[0;32m---> 52\u001b[0;31m \u001b[0moptimal_policy\u001b[0m \u001b[0;34m=\u001b[0m \u001b[0mpolicy_iteration\u001b[0m\u001b[0;34m(\u001b[0m\u001b[0menv\u001b[0m\u001b[0;34m)\u001b[0m\u001b[0;34m\u001b[0m\u001b[0;34m\u001b[0m\u001b[0m\n\u001b[0m\u001b[1;32m     53\u001b[0m \u001b[0;34m\u001b[0m\u001b[0m\n\u001b[1;32m     54\u001b[0m \u001b[0;31m# Wrap the environment with video recording for visualization\u001b[0m\u001b[0;34m\u001b[0m\u001b[0;34m\u001b[0m\u001b[0m\n",
            "\u001b[0;32m<ipython-input-93-6088ea46ac29>\u001b[0m in \u001b[0;36mpolicy_iteration\u001b[0;34m(env)\u001b[0m\n\u001b[1;32m     31\u001b[0m     \u001b[0;32mfor\u001b[0m \u001b[0mi\u001b[0m \u001b[0;32min\u001b[0m \u001b[0mrange\u001b[0m\u001b[0;34m(\u001b[0m\u001b[0mnum_iterations\u001b[0m\u001b[0;34m)\u001b[0m\u001b[0;34m:\u001b[0m\u001b[0;34m\u001b[0m\u001b[0;34m\u001b[0m\u001b[0m\n\u001b[1;32m     32\u001b[0m         \u001b[0;31m# Step 1: Policy Evaluation\u001b[0m\u001b[0;34m\u001b[0m\u001b[0;34m\u001b[0m\u001b[0m\n\u001b[0;32m---> 33\u001b[0;31m         \u001b[0mvalue_function\u001b[0m \u001b[0;34m=\u001b[0m \u001b[0mcompute_value_function\u001b[0m\u001b[0;34m(\u001b[0m\u001b[0mpolicy\u001b[0m\u001b[0;34m,\u001b[0m \u001b[0menv\u001b[0m\u001b[0;34m)\u001b[0m\u001b[0;34m\u001b[0m\u001b[0;34m\u001b[0m\u001b[0m\n\u001b[0m\u001b[1;32m     34\u001b[0m \u001b[0;34m\u001b[0m\u001b[0m\n\u001b[1;32m     35\u001b[0m         \u001b[0;31m# Step 2: Policy Improvement\u001b[0m\u001b[0;34m\u001b[0m\u001b[0;34m\u001b[0m\u001b[0m\n",
            "\u001b[0;32m<ipython-input-93-6088ea46ac29>\u001b[0m in \u001b[0;36mcompute_value_function\u001b[0;34m(policy, env)\u001b[0m\n\u001b[1;32m     12\u001b[0m             \u001b[0ma\u001b[0m \u001b[0;34m=\u001b[0m \u001b[0mint\u001b[0m\u001b[0;34m(\u001b[0m\u001b[0mpolicy\u001b[0m\u001b[0;34m[\u001b[0m\u001b[0ms\u001b[0m\u001b[0;34m]\u001b[0m\u001b[0;34m)\u001b[0m  \u001b[0;31m# make sure it's an int (policy might be float)\u001b[0m\u001b[0;34m\u001b[0m\u001b[0;34m\u001b[0m\u001b[0m\n\u001b[1;32m     13\u001b[0m             \u001b[0mv\u001b[0m \u001b[0;34m=\u001b[0m \u001b[0;36m0\u001b[0m\u001b[0;34m\u001b[0m\u001b[0;34m\u001b[0m\u001b[0m\n\u001b[0;32m---> 14\u001b[0;31m             \u001b[0;32mfor\u001b[0m \u001b[0mprob\u001b[0m\u001b[0;34m,\u001b[0m \u001b[0mnext_state\u001b[0m\u001b[0;34m,\u001b[0m \u001b[0mreward\u001b[0m\u001b[0;34m,\u001b[0m \u001b[0mdone\u001b[0m \u001b[0;32min\u001b[0m \u001b[0menv\u001b[0m\u001b[0;34m.\u001b[0m\u001b[0mP\u001b[0m\u001b[0;34m[\u001b[0m\u001b[0ms\u001b[0m\u001b[0;34m]\u001b[0m\u001b[0;34m[\u001b[0m\u001b[0ma\u001b[0m\u001b[0;34m]\u001b[0m\u001b[0;34m:\u001b[0m\u001b[0;34m\u001b[0m\u001b[0;34m\u001b[0m\u001b[0m\n\u001b[0m\u001b[1;32m     15\u001b[0m                 \u001b[0mv\u001b[0m \u001b[0;34m+=\u001b[0m \u001b[0mprob\u001b[0m \u001b[0;34m*\u001b[0m \u001b[0;34m(\u001b[0m\u001b[0mreward\u001b[0m \u001b[0;34m+\u001b[0m \u001b[0mgamma\u001b[0m \u001b[0;34m*\u001b[0m \u001b[0mvalue_table\u001b[0m\u001b[0;34m[\u001b[0m\u001b[0mnext_state\u001b[0m\u001b[0;34m]\u001b[0m\u001b[0;34m)\u001b[0m\u001b[0;34m\u001b[0m\u001b[0;34m\u001b[0m\u001b[0m\n\u001b[1;32m     16\u001b[0m             \u001b[0mupdated_value_table\u001b[0m\u001b[0;34m[\u001b[0m\u001b[0ms\u001b[0m\u001b[0;34m]\u001b[0m \u001b[0;34m=\u001b[0m \u001b[0mv\u001b[0m\u001b[0;34m\u001b[0m\u001b[0;34m\u001b[0m\u001b[0m\n",
            "\u001b[0;31mAttributeError\u001b[0m: 'TimeLimit' object has no attribute 'P'"
          ]
        }
      ],
      "source": [
        "def compute_value_function(policy):\n",
        "    num_iterations = 1000\n",
        "    threshold = 1e-20\n",
        "    gamma = 1.0\n",
        "\n",
        "    value_table = np.zeros(env.observation_space.n)\n",
        "\n",
        "    for i in range(num_iterations):\n",
        "        updated_value_table = np.copy(value_table)\n",
        "\n",
        "        for s in range(env.observation_space.n):\n",
        "            a = int(policy[s])  # make sure it's an int (policy might be float)\n",
        "            v = 0\n",
        "            for prob, next_state, reward, done in env.P[s][a]:\n",
        "                v += prob * (reward + gamma * value_table[next_state])\n",
        "            updated_value_table[s] = v\n",
        "\n",
        "        # Convergence check\n",
        "        if np.sum(np.abs(updated_value_table - value_table)) <= threshold:\n",
        "            print(f\"Policy evaluation converged at iteration {i}\")\n",
        "            break\n",
        "\n",
        "        value_table = updated_value_table\n",
        "\n",
        "    return value_table\n"
      ]
    },
    {
      "cell_type": "code",
      "execution_count": 88,
      "metadata": {
        "id": "20mr7fG-mUNl"
      },
      "outputs": [],
      "source": [
        "def policy_iteration(env):\n",
        "    num_iterations = 1000\n",
        "    policy = np.zeros(env.observation_space.n)\n",
        "\n",
        "    for i in range(num_iterations):\n",
        "        # Step 1: Policy Evaluation\n",
        "        value_function = compute_value_function(policy)\n",
        "\n",
        "        # Step 2: Policy Improvement\n",
        "        new_policy = extract_policy(value_function)\n",
        "\n",
        "        # Step 3: Check if the policy has converged\n",
        "        if np.array_equal(policy, new_policy):\n",
        "            print(f\"Policy iteration converged at iteration {i}\")\n",
        "            break\n",
        "\n",
        "        # Step 4: Update the policy\n",
        "        policy = new_policy\n",
        "\n",
        "    return policy\n"
      ]
    },
    {
      "cell_type": "code",
      "execution_count": 89,
      "metadata": {
        "id": "DzpQV140m1je"
      },
      "outputs": [],
      "source": [
        "# Wrap the environment to enable video recording\n",
        "env = wrap_environment_for_video(env)"
      ]
    },
    {
      "cell_type": "code",
      "execution_count": 90,
      "metadata": {
        "id": "_SlSK514m-S5",
        "colab": {
          "base_uri": "https://localhost:8080/",
          "height": 286
        },
        "outputId": "2e7fb59e-0599-4730-dce7-e647dcd80468"
      },
      "outputs": [
        {
          "output_type": "error",
          "ename": "AttributeError",
          "evalue": "'RecordVideo' object has no attribute 'P'",
          "traceback": [
            "\u001b[0;31m---------------------------------------------------------------------------\u001b[0m",
            "\u001b[0;31mAttributeError\u001b[0m                            Traceback (most recent call last)",
            "\u001b[0;32m<ipython-input-90-79288fe151a7>\u001b[0m in \u001b[0;36m<cell line: 0>\u001b[0;34m()\u001b[0m\n\u001b[0;32m----> 1\u001b[0;31m \u001b[0moptimal_policy\u001b[0m \u001b[0;34m=\u001b[0m \u001b[0mpolicy_iteration\u001b[0m\u001b[0;34m(\u001b[0m\u001b[0menv\u001b[0m\u001b[0;34m)\u001b[0m\u001b[0;34m\u001b[0m\u001b[0;34m\u001b[0m\u001b[0m\n\u001b[0m",
            "\u001b[0;32m<ipython-input-88-407b551a86ac>\u001b[0m in \u001b[0;36mpolicy_iteration\u001b[0;34m(env)\u001b[0m\n\u001b[1;32m      5\u001b[0m     \u001b[0;32mfor\u001b[0m \u001b[0mi\u001b[0m \u001b[0;32min\u001b[0m \u001b[0mrange\u001b[0m\u001b[0;34m(\u001b[0m\u001b[0mnum_iterations\u001b[0m\u001b[0;34m)\u001b[0m\u001b[0;34m:\u001b[0m\u001b[0;34m\u001b[0m\u001b[0;34m\u001b[0m\u001b[0m\n\u001b[1;32m      6\u001b[0m         \u001b[0;31m# Step 1: Policy Evaluation\u001b[0m\u001b[0;34m\u001b[0m\u001b[0;34m\u001b[0m\u001b[0m\n\u001b[0;32m----> 7\u001b[0;31m         \u001b[0mvalue_function\u001b[0m \u001b[0;34m=\u001b[0m \u001b[0mcompute_value_function\u001b[0m\u001b[0;34m(\u001b[0m\u001b[0mpolicy\u001b[0m\u001b[0;34m)\u001b[0m\u001b[0;34m\u001b[0m\u001b[0;34m\u001b[0m\u001b[0m\n\u001b[0m\u001b[1;32m      8\u001b[0m \u001b[0;34m\u001b[0m\u001b[0m\n\u001b[1;32m      9\u001b[0m         \u001b[0;31m# Step 2: Policy Improvement\u001b[0m\u001b[0;34m\u001b[0m\u001b[0;34m\u001b[0m\u001b[0m\n",
            "\u001b[0;32m<ipython-input-87-30e9d396dcae>\u001b[0m in \u001b[0;36mcompute_value_function\u001b[0;34m(policy)\u001b[0m\n\u001b[1;32m     12\u001b[0m             \u001b[0ma\u001b[0m \u001b[0;34m=\u001b[0m \u001b[0mint\u001b[0m\u001b[0;34m(\u001b[0m\u001b[0mpolicy\u001b[0m\u001b[0;34m[\u001b[0m\u001b[0ms\u001b[0m\u001b[0;34m]\u001b[0m\u001b[0;34m)\u001b[0m  \u001b[0;31m# make sure it's an int (policy might be float)\u001b[0m\u001b[0;34m\u001b[0m\u001b[0;34m\u001b[0m\u001b[0m\n\u001b[1;32m     13\u001b[0m             \u001b[0mv\u001b[0m \u001b[0;34m=\u001b[0m \u001b[0;36m0\u001b[0m\u001b[0;34m\u001b[0m\u001b[0;34m\u001b[0m\u001b[0m\n\u001b[0;32m---> 14\u001b[0;31m             \u001b[0;32mfor\u001b[0m \u001b[0mprob\u001b[0m\u001b[0;34m,\u001b[0m \u001b[0mnext_state\u001b[0m\u001b[0;34m,\u001b[0m \u001b[0mreward\u001b[0m\u001b[0;34m,\u001b[0m \u001b[0mdone\u001b[0m \u001b[0;32min\u001b[0m \u001b[0menv\u001b[0m\u001b[0;34m.\u001b[0m\u001b[0mP\u001b[0m\u001b[0;34m[\u001b[0m\u001b[0ms\u001b[0m\u001b[0;34m]\u001b[0m\u001b[0;34m[\u001b[0m\u001b[0ma\u001b[0m\u001b[0;34m]\u001b[0m\u001b[0;34m:\u001b[0m\u001b[0;34m\u001b[0m\u001b[0;34m\u001b[0m\u001b[0m\n\u001b[0m\u001b[1;32m     15\u001b[0m                 \u001b[0mv\u001b[0m \u001b[0;34m+=\u001b[0m \u001b[0mprob\u001b[0m \u001b[0;34m*\u001b[0m \u001b[0;34m(\u001b[0m\u001b[0mreward\u001b[0m \u001b[0;34m+\u001b[0m \u001b[0mgamma\u001b[0m \u001b[0;34m*\u001b[0m \u001b[0mvalue_table\u001b[0m\u001b[0;34m[\u001b[0m\u001b[0mnext_state\u001b[0m\u001b[0;34m]\u001b[0m\u001b[0;34m)\u001b[0m\u001b[0;34m\u001b[0m\u001b[0;34m\u001b[0m\u001b[0m\n\u001b[1;32m     16\u001b[0m             \u001b[0mupdated_value_table\u001b[0m\u001b[0;34m[\u001b[0m\u001b[0ms\u001b[0m\u001b[0;34m]\u001b[0m \u001b[0;34m=\u001b[0m \u001b[0mv\u001b[0m\u001b[0;34m\u001b[0m\u001b[0;34m\u001b[0m\u001b[0m\n",
            "\u001b[0;31mAttributeError\u001b[0m: 'RecordVideo' object has no attribute 'P'"
          ]
        }
      ],
      "source": [
        "optimal_policy = policy_iteration(env)"
      ]
    },
    {
      "cell_type": "code",
      "execution_count": 52,
      "metadata": {
        "id": "5L5DAsSMnGQ2"
      },
      "outputs": [],
      "source": [
        "# Wrap the environment to enable video recording\n",
        "env = wrap_environment_for_video(env)\n",
        "\n",
        "# Reset the environment\n",
        "state, _ = env.reset()\n",
        "\n",
        "# Follow the optimal policy\n",
        "next_state = state\n",
        "for _ in range(10000):\n",
        "    action = int(optimal_policy[state])  # Use the current state, not next_state\n",
        "    next_state, reward, terminated, truncated, info = env.step(action)\n",
        "    state = next_state  # Update state after action\n",
        "    done = terminated or truncated\n",
        "\n",
        "    if done:\n",
        "        break\n",
        "\n",
        "# Close the environment (this will automatically save the video)\n",
        "env.close()"
      ]
    },
    {
      "cell_type": "code",
      "execution_count": 53,
      "metadata": {
        "id": "NMFM0lQnnOZo",
        "colab": {
          "base_uri": "https://localhost:8080/",
          "height": 502
        },
        "outputId": "169cf908-c0b2-4e2e-e87e-cbaa8b67e5c6"
      },
      "outputs": [
        {
          "output_type": "display_data",
          "data": {
            "text/plain": [
              "<IPython.core.display.HTML object>"
            ],
            "text/html": [
              "\n",
              "            <video width=\"640\" height=\"480\" controls autoplay loop>\n",
              "                <source src=\"data:video/mp4;base64,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\" type=\"video/mp4\">\n",
              "            </video>\n",
              "        "
            ]
          },
          "metadata": {}
        }
      ],
      "source": [
        "# Display Output\n",
        "display_recorded_video(video_folder='./video')"
      ]
    },
    {
      "cell_type": "markdown",
      "metadata": {
        "id": "6Z_rpJFmSfZX"
      },
      "source": [
        "## What is Monte Carlo?\n",
        "\n",
        "Monte Carlo methods are a class of algorithms that rely on repeated random sampling to obtain numerical results. The core idea is to use randomness to solve problems that might be deterministic in principle. In the context of Reinforcement Learning (RL), Monte Carlo methods are used to estimate the value of states or state-action pairs by running multiple episodes and observing the outcomes. The key concept here is **trial and error**—we perform random experiments (trials), and based on the results, we compute averages that approximate the true values.\n",
        "\n",
        "#### Key Points:\n",
        "- **Random sampling**: Monte Carlo methods use randomness to simulate and explore possible outcomes.\n",
        "- **Episodic tasks**: They are often used in episodic environments where each episode ends in a terminal state.\n",
        "- **No need for a model**: Monte Carlo doesn’t require a complete model of the environment, unlike some other methods in RL, such as Dynamic Programming."
      ]
    },
    {
      "cell_type": "markdown",
      "metadata": {
        "id": "dfkDo71pSk2Y"
      },
      "source": [
        "### Where is it Applicable in Reinforcement Learning?\n",
        "\n",
        "In RL, Monte Carlo methods are used to solve Markov Decision Processes (MDPs) by estimating the value functions based on actual experiences, which is different from Dynamic Programming (DP) methods like Policy Iteration or Value Iteration where we know the model dynamics.\n",
        "\n",
        "- **Monte Carlo**:\n",
        "    - **Model-free**: It doesn’t need the transition probabilities or reward model of the environment.\n",
        "    - **Episodic**: It requires full episodes to compute an average return.\n",
        "    - **Learning from interaction**: Monte Carlo learns from real or simulated experiences, by averaging returns for visited states.\n",
        "    - **Convergence**: It only converges after multiple episodes, especially for larger MDPs.\n",
        "  \n",
        "- **Dynamic Programming**:\n",
        "    - **Model-based**: DP requires a known model of the environment, including transition probabilities and rewards.\n",
        "    - **Bootstrapping**: DP methods use current estimates of value functions to update state values iteratively.\n",
        "    - **Complete information**: It works by sweeping over the entire state space and updating values simultaneously.\n",
        "\n",
        "Monte Carlo methods are more useful when we can’t directly model the environment, whereas Dynamic Programming is effective when we know the full MDP model. Monte Carlo works well for large-scale problems or when interacting with the environment is cheap or necessary.\n"
      ]
    },
    {
      "cell_type": "markdown",
      "metadata": {
        "id": "WFzYue8ASqyN"
      },
      "source": [
        "### Estimating pi-value using Monte Carlo\n",
        "\n",
        "Monte Carlo methods are often applied to estimate values that are otherwise hard to calculate, such as the mathematical constant π (pi). Here’s how we can estimate π using Monte Carlo:\n",
        "\n",
        "- **Basic Idea**: Imagine a unit square with a circle inscribed in it (diameter = 1). The area of the square is 1, and the area of the circle is π/4. If we randomly generate points within the square, the ratio of points that land inside the circle to the total number of points should approximate the area ratio between the circle and square, which is π/4.\n",
        "\n",
        "- **Steps**:\n",
        "  1. Randomly generate points $(x, y)$ in the unit square.\n",
        "  2. Check if the point lies inside the circle i.e., if $( x^2 + y^2 \\leq 1 )$.\n",
        "  3. We calculate the value π (pi) by multiplying four to the division of the number of points inside the circle to the number of points inside the square.\n",
        "  4. If we increase the number of samples, the better we can approximate.\n",
        "\n",
        "This is a simple but powerful demonstration of Monte Carlo’s ability to estimate quantities through random sampling.\n",
        "\n",
        "<center>\n",
        "<img src=\"https://help.ovhcloud.com/public_cloud-data_analytics-data_processing-40_tutorial_calculate_pi-images-monte_carlo_graph.png\" alt=\"pi_est\" width=\"200\" height=\"200\">\n",
        "</center>"
      ]
    },
    {
      "cell_type": "code",
      "execution_count": null,
      "metadata": {
        "id": "uKiS0N_WXhdo"
      },
      "outputs": [],
      "source": [
        "### TODO: Estimate the value of pi using Monte Carlo\n",
        "\n",
        "import numpy as np\n",
        "import math\n",
        "import matplotlib.pyplot as plt\n",
        "%matplotlib inline\n",
        "\n",
        "def pi_check(estimate): # DO NOT MODIFY THIS FUNCTION\n",
        "    pi = math.pi\n",
        "    difference = abs(pi - estimate)\n",
        "    if difference < 0.00001:\n",
        "        print('Test Case passed')\n",
        "    else:\n",
        "        print('Test Case not passed')\n",
        "\n",
        "# Implement you solution below this line\n",
        "def mc_pi_estimator():\n",
        "    pass\n"
      ]
    },
    {
      "cell_type": "markdown",
      "metadata": {
        "id": "l0GUZLK1SyEG"
      },
      "source": [
        "### Making a Monte Carlo Integrator\n",
        "\n",
        "Monte Carlo methods are widely used to approximate integrals, especially for high-dimensional or complex integrals where traditional methods fail or are inefficient.\n",
        "\n",
        "- **Problem**: You want to compute the integral of a function  $f(x)$ over an interval $[a, b]$.\n",
        "  \n",
        "- **Monte Carlo Approach**:\n",
        "  1. **Random Sampling**: Generate random points $ x_i $ uniformly in the interval $[a, b]$.\n",
        "  2. **Function Evaluation**: Compute the function value $ f(x_i) $ for each sampled point.\n",
        "  3. **Averaging**: Compute the average of the function values and scale it by the interval width, $( b - a )$.\n",
        "\n",
        "The estimated integral is:\n",
        "$$\n",
        "\\int_a^b f(x) dx \\approx (b - a) \\times \\frac{1}{N} \\sum_{i=1}^{N} f(x_i)\n",
        "$$\n",
        "where $( N )$ is the number of samples.\n",
        "\n",
        "This approach is useful when the function is difficult to integrate analytically, or when the domain of integration is high-dimensional. Monte Carlo integration's accuracy improves as the number of samples increases, though convergence is slow compared to other numerical methods.\n"
      ]
    },
    {
      "cell_type": "code",
      "execution_count": null,
      "metadata": {
        "id": "sqdYTjX9ZolR"
      },
      "outputs": [],
      "source": [
        "### TODO: compute the integral of a function  f(x) over an interval [a, b] using Monte Carlo\n",
        "\n",
        "# Implement you solution below this line\n",
        "def mc_integrator():\n",
        "    pass\n"
      ]
    },
    {
      "cell_type": "markdown",
      "metadata": {
        "id": "bNiDAedubAig"
      },
      "source": [
        "Solve following Integral using your implemented MC Integrator:\n",
        "\n",
        "$$\n",
        "    \\int_0^{\\frac{\\pi}{2}} \\frac{\\sqrt{sin(x)}}{\\sqrt{sin(x)}+\\sqrt{cos(x)}}\n",
        "$$"
      ]
    },
    {
      "cell_type": "code",
      "execution_count": null,
      "metadata": {
        "id": "i4dQzWhrb2fi"
      },
      "outputs": [],
      "source": [
        "### TODO: Solve the above integral using your implemented MC Integrator"
      ]
    },
    {
      "cell_type": "code",
      "execution_count": null,
      "metadata": {
        "id": "-U5u-ixKaMcj"
      },
      "outputs": [],
      "source": [
        "### TODO: Plot a graph of MC Integrator Accuracy vs Speed"
      ]
    },
    {
      "cell_type": "markdown",
      "metadata": {
        "id": "mIMTUKl_TFPG"
      },
      "source": [
        "## Monte Carlo Prediction"
      ]
    },
    {
      "cell_type": "markdown",
      "metadata": {
        "id": "htC-zp6-TIev"
      },
      "source": [
        "### General Overview\n",
        "\n",
        "Monte Carlo Prediction is a technique in Reinforcement Learning (RL) used to estimate the value of states (or state-action pairs) based on the observed returns from sampled episodes. The goal is to approximate the value function, which represents the expected return (cumulative future rewards) starting from a given state under a specific policy.\n",
        "\n",
        "- **Objective**: For a given policy $ \\pi $, Monte Carlo methods aim to estimate the **value function** $ V^\\pi(s) $ for each state $ s $, which is the expected return starting from $ s $, and following the policy $ \\pi $. We estimate the expected return using mean returns.\n",
        "- **Episode-based learning**: Monte Carlo methods compute value estimates by averaging returns across multiple episodes. An episode is a sequence of states, actions, and rewards that ends in a terminal state.\n",
        "  \n",
        "In Monte Carlo Prediction, the value of a state is updated based on the actual returns received in episodes, which allows it to handle non-Markov environments and environments where a model of the dynamics is unknown. This is why Monte Carlo prediction is called *'model-free'* learning algorithm. This method works particularly well for **episodic tasks** where we can easily define when an episode starts and ends.\n",
        "\n",
        "---\n",
        "\n",
        "The steps involved in Monte Carlo prediction are as follows:\n",
        "\n",
        "1. First, we initialize a random value to our value function.\n",
        "2. Then we initialize an emplty list called a return to store our return.\n",
        "3. Then for each state in the episode, we calculate the return.\n",
        "4. Next, we append the return to out return list.\n",
        "5. Finally, we take average of return as our value function.\n",
        "\n",
        "----\n",
        "\n",
        "The Monte Carlo Prediction algorithm is of two types;\n",
        "\n",
        "- First Visit Monte Carlo\n",
        "- Every Visit Monte Carlo"
      ]
    },
    {
      "cell_type": "markdown",
      "metadata": {
        "id": "TDnnajAOTLxX"
      },
      "source": [
        "### First Visit Monte Carlo\n",
        "\n",
        "In First Visit Monte Carlo (MC) we average the return only the first time the state is visited in an episode. In Reinforcement Learning, a state may be visited multiple times within a single episode.\n",
        "- First Visit Monte Carlo focuses on the first occurrence of each state to provide an unbiased estimate of its value.\n",
        "\n",
        "- First Visit ensures that the value of a state is only updated once per episode, based on the first time it was encountered.\n",
        "- This method helps avoid correlation between multiple visits to the same state in a single episode, which can introduce bias into the value estimation.\n",
        "By averaging the returns for the first visits over many episodes, we get a robust estimate of the value function for each state.\n",
        "\n",
        "#### Algorithm for First Visit MC Prediction:\n",
        "\n",
        "1. **Initialize** the value function $ V(s) $ for all states arbitrarily (or to zeros) and a counter $ N(s) = 0 $ for each state $ s $ to track the number of first visits to $ s $.\n",
        "\n",
        "2. **Simulate episodes**: For each episode:\n",
        "    - Generate a complete episode by following the given policy $ \\pi $.\n",
        "    - An episode is a sequence of states, actions, and rewards:\n",
        "      $$\n",
        "      (S_0, A_0, R_1, S_1, A_1, R_2, \\dots, S_T)\n",
        "      $$\n",
        "      where $ S_T $ is the terminal state, and $ T $ is the time step at which the episode ends.\n",
        "\n",
        "3. **Track first visits**: For each state $ S_t $ visited in the episode, check if this is the first time it has been visited within the episode. If so:\n",
        "    - **Compute the return** $ G_t $, which is the total discounted reward from time step $ t $ until the end of the episode:\n",
        "      $$\n",
        "      G_t = R_{t+1} + \\gamma R_{t+2} + \\dots + \\gamma^{T-t} R_T\n",
        "      $$\n",
        "    - **Update the value function** $ V(S_t) $ based on this return:\n",
        "      $$\n",
        "      V(S_t) \\leftarrow V(S_t) + \\alpha [G_t - V(S_t)]\n",
        "      $$\n",
        "      where $ \\alpha $ is the learning rate, or:\n",
        "      $$\n",
        "      α = \\frac{1}{N(S_t)}\n",
        "      $$\n",
        "      if you are averaging over all returns for state $ S_t $.\n",
        "  \n",
        "    - **Update the count** for the first visit to the state:\n",
        "      $$\n",
        "      N(S_t) \\leftarrow N(S_t) + 1\n",
        "      $$\n",
        "\n",
        "4. **Repeat** this process over many episodes to improve the estimates of the value function.\n",
        "\n",
        "---\n",
        "\n",
        "More concisely, the algorithm is as follows:\n",
        "\n",
        "<img src=\"https://lcalem.github.io/imgs/sutton/first_visit.png\" alt=\"Girl in a jacket\" width=\"700\" height=\"300\">\n"
      ]
    },
    {
      "cell_type": "code",
      "execution_count": null,
      "metadata": {
        "id": "Gh7pVXUXG6MT"
      },
      "outputs": [],
      "source": [
        "### TODO: Implement a function to generate an episode using policy (pi)\n",
        "\n",
        "def generate_episodes(env) -> list:\n",
        "    pass"
      ]
    },
    {
      "cell_type": "code",
      "execution_count": null,
      "metadata": {
        "id": "d1UKMW8jWyGN"
      },
      "outputs": [],
      "source": [
        "def first_visit_mc_prediction(env, n_episodes):\n",
        "    # First, we initialize the empty value table as a dictionary for storing the values of each state\n",
        "    value_table = defaultdict(float)\n",
        "    N = defaultdict(int)\n",
        "\n",
        "\n",
        "    for _ in range(n_episodes):\n",
        "\n",
        "        # TODO: Generate the epsiode and store the states and rewards\n",
        "\n",
        "\n",
        "        # TODO: For each step, we store the rewards to a variable R and states to S, and we calculate\n",
        "        # returns as a sum of rewards\n",
        "\n",
        "        for t in range(len(states) - 1, -1, -1):\n",
        "            pass\n",
        "\n",
        "            # TODO: Perform first visit MC, we check if the episode is visited for the first time, if yes,\n",
        "            # we simply take the average of returns and assign the value of the state as an average of returns\n",
        "\n",
        "\n",
        "    return value_table"
      ]
    },
    {
      "cell_type": "markdown",
      "metadata": {
        "id": "vaT1HXyvG3j0"
      },
      "source": []
    },
    {
      "cell_type": "markdown",
      "metadata": {
        "id": "MRXD7LgkTP12"
      },
      "source": [
        "### Every Visit Monte Carlo\n",
        "\n",
        "**Every Visit Monte Carlo** is a model-free prediction method in Reinforcement Learning (RL) used to estimate the value function $ V^\\pi(s) $ of a given policy $ \\pi $. Like other Monte Carlo methods, it uses complete episodes of experience and updates the estimated value of a state based on the **returns** from multiple episodes.\n",
        "\n",
        "The key feature of **Every Visit Monte Carlo** is that it updates the value of a state every time the state is visited within an episode, rather than just the first time (which is what happens in First Visit Monte Carlo).\n",
        "\n",
        "---\n",
        "\n",
        "### Why Use Every Visit Monte Carlo?\n",
        "\n",
        "In environments where states can be revisited multiple times within the same episode, **Every Visit Monte Carlo** provides a way to leverage all available information by updating the value of a state each time it is visited.\n",
        "\n",
        "- **More frequent updates**: By updating the value of a state for every visit, you can learn faster in environments where the agent frequently revisits the same state.\n",
        "- **Utilizes more data**: Every occurrence of a state gives more opportunities to estimate the value, which may lead to faster convergence of the value function compared to First Visit Monte Carlo.\n",
        "\n",
        "---"
      ]
    },
    {
      "cell_type": "code",
      "execution_count": null,
      "metadata": {
        "id": "Cd6hOcLEa81x"
      },
      "outputs": [],
      "source": [
        "### TODO: Complete 'every_visit_mc_prediction()' function\n",
        "\n",
        "def every_visit_mc_prediction(env, n_episodes):\n",
        "\n",
        "    # First, we initialize the empty value table as a dictionary for storing the values of each state\n",
        "    value_table = defaultdict(float)\n",
        "    N = defaultdict(int)\n",
        "\n",
        "\n",
        "    for _ in range(n_episodes):\n",
        "\n",
        "        # TODO: Generate the epsiode and store the states and rewards\n",
        "\n",
        "\n",
        "        # TODO: For each step, we store the rewards to a variable R and states to S, and we calculate\n",
        "        # returns as a sum of rewards\n",
        "\n",
        "        for t in range(len(states) - 1, -1, -1):\n",
        "            pass\n",
        "\n",
        "            # TODO: Perform every visit MC, we simply take the average of returns and assign the value of the state as an average of returns\n",
        "\n",
        "\n",
        "    return value_table"
      ]
    },
    {
      "cell_type": "markdown",
      "metadata": {
        "id": "zgwURwMAON3_"
      },
      "source": [
        "\n",
        "### Key Differences between First Visit Monte Carlo and Every Visit Monte Carlo:\n",
        "\n",
        "- **Every Visit Monte Carlo** updates the value of a state every time it is visited within an episode, whereas **First Visit Monte Carlo** updates the value only the first time a state is encountered.\n",
        "- **Every Visit Monte Carlo** tends to use more data for updating the value function since it uses all occurrences of each state within an episode, potentially leading to faster learning in some cases.\n",
        "- **First Visit Monte Carlo** avoids correlation between multiple visits to the same state, while Every Visit Monte Carlo exploits multiple visits to gather more data but may introduce more noise or bias in certain environments.\n",
        "\n",
        "Both methods will converge to the correct value function given enough episodes, but they may differ in how fast they converge depending on the environment and the task."
      ]
    },
    {
      "cell_type": "markdown",
      "metadata": {
        "id": "1TAInFcMQPpF"
      },
      "source": [
        "### Playing Black-Jack with Monte Carlo Methods\n"
      ]
    },
    {
      "cell_type": "code",
      "execution_count": null,
      "metadata": {
        "id": "h_wcgBvQQaly"
      },
      "outputs": [],
      "source": [
        "def extract_policy(env,value_table, gamma = 1.0):\n",
        "\n",
        "    # initialize the policy with zeros\n",
        "    policy = np.zeros(env.observation_space.n)\n",
        "\n",
        "\n",
        "    for state in range(env.observation_space.n):\n",
        "\n",
        "        # initialize the Q table for a state\n",
        "        Q_table = np.zeros(env.action_space.n)\n",
        "\n",
        "        # compute Q value for all ations in the state\n",
        "        for action in range(env.action_space.n):\n",
        "            for next_sr in env.P[state][action]:\n",
        "                trans_prob, next_state, reward_prob, _ = next_sr\n",
        "                Q_table[action] += (trans_prob * (reward_prob + gamma * value_table[next_state]))\n",
        "\n",
        "        # select the action which has maximum Q value as an optimal action of the state\n",
        "        policy[state] = np.argmax(Q_table)\n",
        "\n",
        "    return policy\n"
      ]
    },
    {
      "cell_type": "code",
      "execution_count": null,
      "metadata": {
        "id": "heZMvWZSQYrM"
      },
      "outputs": [],
      "source": [
        "env_train = gym.make('Blackjack-v1', natural=False, sab=False)"
      ]
    },
    {
      "cell_type": "code",
      "execution_count": null,
      "metadata": {
        "id": "WIm0pfihRGE0"
      },
      "outputs": [],
      "source": [
        "value_first_visit_mc = first_visit_mc_prediction(env_train, n_episodes=500000)\n",
        "optimal_policy_first_visit = extract_policy(env_train,value_first_visit_mc, gamma=0.9)"
      ]
    },
    {
      "cell_type": "code",
      "execution_count": null,
      "metadata": {
        "collapsed": true,
        "id": "bd7lpiAPRPxg"
      },
      "outputs": [],
      "source": [
        "value_every_visit_mc = every_visit_mc_prediction(env_train, n_episodes=500000)\n",
        "optimal_policy_every_visit = extract_policy(env_train,value_every_visit_mc, gamma=0.9)"
      ]
    },
    {
      "cell_type": "code",
      "execution_count": null,
      "metadata": {
        "id": "zJeqe36mxy8i"
      },
      "outputs": [],
      "source": [
        "\n",
        "env = wrap_env(gym.make('Blackjack-v1', natural=False, sab=False))\n",
        "\n",
        "\n",
        "# Reset the environment\n",
        "state, _ = env.reset()\n",
        "\n",
        "# Start the recorder (utility for displaying output)\n",
        "env.start_video_recorder()\n",
        "\n",
        "next_state = state\n",
        "\n",
        "# Example of an interaction loop\n",
        "for _ in range(10000):\n",
        "\n",
        "\n",
        "    # Render the environment\n",
        "    env.render()\n",
        "\n",
        "\n",
        "    # Sample random action from action space\n",
        "    # action = env.action_space.sample()\n",
        "    action = int(optimal_policy_first_visit[next_state])\n",
        "\n",
        "    # print(type(action),next_state)\n",
        "\n",
        "    # Step through the environment using the action\n",
        "    next_state, reward, done, info = env.step(action)\n",
        "\n",
        "    # Break the loop if the episode is done\n",
        "    if done:\n",
        "        break\n",
        "\n",
        "\n",
        "# close the video recorder(utility for displaying output)\n",
        "env.close_video_recorder()\n",
        "\n",
        "# Close the environment\n",
        "env.close()"
      ]
    },
    {
      "cell_type": "code",
      "execution_count": null,
      "metadata": {
        "id": "jVGDXkBXy_89"
      },
      "outputs": [],
      "source": [
        "# Display Output\n",
        "show_video()"
      ]
    },
    {
      "cell_type": "code",
      "execution_count": null,
      "metadata": {
        "id": "_l7gMbAcTH06"
      },
      "outputs": [],
      "source": []
    }
  ],
  "metadata": {
    "colab": {
      "provenance": []
    },
    "kernelspec": {
      "display_name": "Python 3",
      "name": "python3"
    },
    "language_info": {
      "name": "python",
      "version": "3.10.5"
    }
  },
  "nbformat": 4,
  "nbformat_minor": 0
}